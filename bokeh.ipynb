{
 "cells": [
  {
   "cell_type": "markdown",
   "metadata": {},
   "source": [
    "# bokeh backend"
   ]
  },
  {
   "cell_type": "code",
   "metadata": {
    "execution": {
     "iopub.execute_input": "2025-02-10T22:13:33.804907Z",
     "iopub.status.busy": "2025-02-10T22:13:33.804448Z",
     "iopub.status.idle": "2025-02-10T22:13:35.809152Z",
     "shell.execute_reply": "2025-02-10T22:13:35.808596Z"
    }
   },
   "source": [
    "import numpy as np\n",
    "import holoviews as hv\n",
    "from holoviews import opts\n",
    "from IPython.display import IFrame\n",
    "\n",
    "hv.extension('bokeh')"
   ],
   "outputs": [],
   "execution_count": null
  },
  {
   "cell_type": "markdown",
   "metadata": {},
   "source": [
    "Image represents a regularly sampled 2D grid of an underlying [continuous space](Continuous_Coordinates.ipynb) of intensity values, which will be colormapped on plotting. The grid of intensity values may be specified as a ``NxM`` sized array of values along with a bounds, but it may also be defined through explicit and regularly spaced x/y-coordinate arrays of shape ``M`` and ``N`` respectively. The two most basic supported constructors of an Image therefore include:\n",
    "\n",
    "    Image((X, Y, Z))\n",
    "\n",
    "where ``X`` is a 1D array of shape ``M``, ``Y`` is a 1D array of shape ``N`` and ``Z`` is a 2D array of shape ``NxM``, or equivalently:\n",
    "\n",
    "    Image(Z, bounds=(x0, y0, x1, y1))\n",
    "\n",
    "where ``Z`` is a 2D array of shape ``NxM`` defining the intensity values and the bounds define the (left, bottom, right, top) edges of four corners of the grid. Other gridded formats which support declaring of explicit x/y-coordinate arrays such as xarray are also supported. See the [Gridded Datasets](../../../user_guide/09-Gridded_Datasets.ipynb) user guide for all the other accepted data formats."
   ]
  },
  {
   "cell_type": "code",
   "metadata": {
    "execution": {
     "iopub.execute_input": "2025-02-10T22:13:35.810925Z",
     "iopub.status.busy": "2025-02-10T22:13:35.810627Z",
     "iopub.status.idle": "2025-02-10T22:13:36.195349Z",
     "shell.execute_reply": "2025-02-10T22:13:36.194765Z"
    }
   },
   "source": [
    "ls = np.linspace(0, 10, 200)\n",
    "xx, yy = np.meshgrid(ls, ls)\n",
    "\n",
    "bounds=(-1,-1,1,1)   # Coordinate system: (left, bottom, right, top)\n",
    "img = hv.Image(np.sin(xx)*np.cos(yy), bounds=bounds)\n",
    "hv.save(img, 'img.html')"
   ],
   "outputs": [],
   "execution_count": null
  },
  {
   "cell_type": "code",
   "metadata": {
    "execution": {
     "iopub.execute_input": "2025-02-10T22:13:36.197569Z",
     "iopub.status.busy": "2025-02-10T22:13:36.197148Z",
     "iopub.status.idle": "2025-02-10T22:13:36.200925Z",
     "shell.execute_reply": "2025-02-10T22:13:36.200507Z"
    }
   },
   "source": [
    "# display map by using an iframe to the output\n",
    "IFrame(src='https://eds-book.github.io/test-hvplot/img.html', width=700, height=400)"
   ],
   "outputs": [],
   "execution_count": null
  },
  {
   "cell_type": "markdown",
   "metadata": {},
   "source": [
    "In recent versions of Bokeh, you can enable image hover to inspect the raw values:"
   ]
  },
  {
   "cell_type": "code",
   "metadata": {
    "execution": {
     "iopub.execute_input": "2025-02-10T22:13:36.202624Z",
     "iopub.status.busy": "2025-02-10T22:13:36.202316Z",
     "iopub.status.idle": "2025-02-10T22:13:36.211055Z",
     "shell.execute_reply": "2025-02-10T22:13:36.210470Z"
    }
   },
   "source": [
    "opts.defaults(\n",
    "   opts.Image(tools=['hover']),\n",
    "   opts.Points (color='black', marker='x', size=20))"
   ],
   "outputs": [],
   "execution_count": null
  },
  {
   "cell_type": "markdown",
   "metadata": {},
   "source": [
    "Slicing, sampling, etc. on an ``Image`` all operate in this continuous space, whereas the corresponding operations on a ``Raster`` work on the raw array coordinates."
   ]
  },
  {
   "cell_type": "code",
   "metadata": {
    "execution": {
     "iopub.execute_input": "2025-02-10T22:13:36.213071Z",
     "iopub.status.busy": "2025-02-10T22:13:36.212668Z",
     "iopub.status.idle": "2025-02-10T22:13:36.353430Z",
     "shell.execute_reply": "2025-02-10T22:13:36.352865Z"
    }
   },
   "source": [
    "img + img[-0.5:0.5, -0.5:0.5]"
   ],
   "outputs": [],
   "execution_count": null
  },
  {
   "cell_type": "markdown",
   "metadata": {},
   "source": [
    "Notice how, because our declared coordinate system is continuous, we can slice with any floating-point value we choose. The appropriate range of the samples in the input numpy array will always be displayed, whether or not there are samples at those specific floating-point values. This also allows us to index by a floating value, since the ``Image`` is defined as a continuous space it will snap to the closest coordinate, to inspect the closest coordinate we can use the ``closest`` method:"
   ]
  },
  {
   "cell_type": "code",
   "metadata": {
    "execution": {
     "iopub.execute_input": "2025-02-10T22:13:36.357659Z",
     "iopub.status.busy": "2025-02-10T22:13:36.357370Z",
     "iopub.status.idle": "2025-02-10T22:13:36.574964Z",
     "shell.execute_reply": "2025-02-10T22:13:36.574437Z"
    }
   },
   "source": [
    "closest = img.closest((0.1,0.1))\n",
    "print('The value at position %s is %s' % (closest, img[0.1, 0.1]))\n",
    "img * hv.Points([img.closest((0.1,0.1))])"
   ],
   "outputs": [],
   "execution_count": null
  },
  {
   "cell_type": "markdown",
   "metadata": {},
   "source": [
    "We can also easily take cross-sections of the Image by using the sample method or collapse a dimension using the ``reduce`` method:"
   ]
  },
  {
   "cell_type": "code",
   "metadata": {
    "execution": {
     "iopub.execute_input": "2025-02-10T22:13:36.578929Z",
     "iopub.status.busy": "2025-02-10T22:13:36.578723Z",
     "iopub.status.idle": "2025-02-10T22:13:36.704153Z",
     "shell.execute_reply": "2025-02-10T22:13:36.703570Z"
    }
   },
   "source": [
    "img.sample(x=0) + img.reduce(x=np.mean)"
   ],
   "outputs": [],
   "execution_count": null
  },
  {
   "cell_type": "markdown",
   "metadata": {},
   "source": [
    "The constructor of ``Image`` attempts to validate the input data by ensuring it is regularly sampled. In some cases, your data may be not be regularly sampled to a sufficiently high precision in which case you qill see an exception recommending the use of [``QuadMesh``](./QuadMesh.ipynb) instead. If you see this message and are sure that the ``Image`` element is appropriate, you can set the ``rtol`` value in the constructor to allow a higher deviation in sample spacing than the default of ``10e-6``. Alternatively, you can set this globally using ``hv.config.image_rtol`` as described in the [Installing and Configuring](../../../user_guide/Installing_and_Configuring.ipynb) user guide.\n",
    "\n",
    "One additional way to create Image objects is via the separate [ImaGen](https://github.com/pyviz-topics/imagen) library, which creates parameterized streams of images for experiments, simulations, or machine-learning applications.\n",
    "\n",
    "For full documentation and the available style and plot options, use ``hv.help(hv.Image).``\n",
    "    Image(Z, bounds=(x0, y0, x1, y1))\n",
    "\n",
    "where ``Z`` is a 2D array of shape ``NxM`` defining the intensity values and the bounds define the (left, bottom, right, top) edges of four corners of the grid. Other gridded formats which support declaring of explicit x/y-coordinate arrays such as xarray are also supported. See the [Gridded Datasets](../../../user_guide/09-Gridded_Datasets.ipynb) user guide for all the other accepted data formats."
   ]
  },
  {
   "cell_type": "code",
   "metadata": {
    "execution": {
     "iopub.execute_input": "2025-02-10T22:13:36.706137Z",
     "iopub.status.busy": "2025-02-10T22:13:36.705694Z",
     "iopub.status.idle": "2025-02-10T22:13:36.788379Z",
     "shell.execute_reply": "2025-02-10T22:13:36.787774Z"
    }
   },
   "source": [
    "ls = np.linspace(0, 10, 200)\n",
    "xx, yy = np.meshgrid(ls, ls)\n",
    "\n",
    "bounds=(-1,-1,1,1)   # Coordinate system: (left, bottom, right, top)\n",
    "img = hv.Image(np.sin(xx)*np.cos(yy), bounds=bounds)\n",
    "hv.save(img, 'img.html')"
   ],
   "outputs": [],
   "execution_count": null
  },
  {
   "cell_type": "code",
   "metadata": {
    "execution": {
     "iopub.execute_input": "2025-02-10T22:13:36.790195Z",
     "iopub.status.busy": "2025-02-10T22:13:36.790019Z",
     "iopub.status.idle": "2025-02-10T22:13:36.793625Z",
     "shell.execute_reply": "2025-02-10T22:13:36.793141Z"
    }
   },
   "source": [
    "# display map by using an iframe to the output path\n",
    "IFrame(src='https://eds-book.github.io/test-hvplot/img.html', width=700, height=400)"
   ],
   "outputs": [],
   "execution_count": null
  },
  {
   "cell_type": "markdown",
   "metadata": {},
   "source": [
    "In recent versions of Bokeh, you can enable image hover to inspect the raw values:"
   ]
  },
  {
   "cell_type": "code",
   "metadata": {
    "execution": {
     "iopub.execute_input": "2025-02-10T22:13:36.795243Z",
     "iopub.status.busy": "2025-02-10T22:13:36.795077Z",
     "iopub.status.idle": "2025-02-10T22:13:36.803329Z",
     "shell.execute_reply": "2025-02-10T22:13:36.802924Z"
    }
   },
   "source": [
    "opts.defaults(\n",
    "   opts.Image(tools=['hover']),\n",
    "   opts.Points (color='black', marker='x', size=20))"
   ],
   "outputs": [],
   "execution_count": null
  },
  {
   "cell_type": "markdown",
   "metadata": {},
   "source": [
    "Slicing, sampling, etc. on an ``Image`` all operate in this continuous space, whereas the corresponding operations on a ``Raster`` work on the raw array coordinates."
   ]
  },
  {
   "cell_type": "code",
   "metadata": {
    "execution": {
     "iopub.execute_input": "2025-02-10T22:13:36.804897Z",
     "iopub.status.busy": "2025-02-10T22:13:36.804720Z",
     "iopub.status.idle": "2025-02-10T22:13:36.945236Z",
     "shell.execute_reply": "2025-02-10T22:13:36.944641Z"
    }
   },
   "source": [
    "img + img[-0.5:0.5, -0.5:0.5]"
   ],
   "outputs": [],
   "execution_count": null
  },
  {
   "cell_type": "markdown",
   "metadata": {},
   "source": [
    "Notice how, because our declared coordinate system is continuous, we can slice with any floating-point value we choose. The appropriate range of the samples in the input numpy array will always be displayed, whether or not there are samples at those specific floating-point values. This also allows us to index by a floating value, since the ``Image`` is defined as a continuous space it will snap to the closest coordinate, to inspect the closest coordinate we can use the ``closest`` method:"
   ]
  },
  {
   "cell_type": "code",
   "metadata": {
    "execution": {
     "iopub.execute_input": "2025-02-10T22:13:36.949447Z",
     "iopub.status.busy": "2025-02-10T22:13:36.949017Z",
     "iopub.status.idle": "2025-02-10T22:13:37.057259Z",
     "shell.execute_reply": "2025-02-10T22:13:37.056580Z"
    }
   },
   "source": [
    "closest = img.closest((0.1,0.1))\n",
    "print('The value at position %s is %s' % (closest, img[0.1, 0.1]))\n",
    "img * hv.Points([img.closest((0.1,0.1))])"
   ],
   "outputs": [],
   "execution_count": null
  },
  {
   "cell_type": "markdown",
   "metadata": {},
   "source": [
    "We can also easily take cross-sections of the Image by using the sample method or collapse a dimension using the ``reduce`` method:"
   ]
  },
  {
   "cell_type": "code",
   "metadata": {
    "execution": {
     "iopub.execute_input": "2025-02-10T22:13:37.061231Z",
     "iopub.status.busy": "2025-02-10T22:13:37.060883Z",
     "iopub.status.idle": "2025-02-10T22:13:37.185178Z",
     "shell.execute_reply": "2025-02-10T22:13:37.184566Z"
    }
   },
   "source": [
    "img.sample(x=0) + img.reduce(x=np.mean)"
   ],
   "outputs": [],
   "execution_count": null
  },
  {
   "cell_type": "markdown",
   "metadata": {},
   "source": [
    "The constructor of ``Image`` attempts to validate the input data by ensuring it is regularly sampled. In some cases, your data may be not be regularly sampled to a sufficiently high precision in which case you qill see an exception recommending the use of [``QuadMesh``](./QuadMesh.ipynb) instead. If you see this message and are sure that the ``Image`` element is appropriate, you can set the ``rtol`` value in the constructor to allow a higher deviation in sample spacing than the default of ``10e-6``. Alternatively, you can set this globally using ``hv.config.image_rtol`` as described in the [Installing and Configuring](../../../user_guide/Installing_and_Configuring.ipynb) user guide.\n",
    "\n",
    "One additional way to create Image objects is via the separate [ImaGen](https://github.com/pyviz-topics/imagen) library, which creates parameterized streams of images for experiments, simulations, or machine-learning applications.\n",
    "\n",
    "For full documentation and the available style and plot options, use ``hv.help(hv.Image).``\n",
    "where ``Z`` is a 2D array of shape ``NxM`` defining the intensity values and the bounds define the (left, bottom, right, top) edges of four corners of the grid. Other gridded formats which support declaring of explicit x/y-coordinate arrays such as xarray are also supported. See the [Gridded Datasets](../../../user_guide/09-Gridded_Datasets.ipynb) user guide for all the other accepted data formats."
   ]
  },
  {
   "cell_type": "code",
   "metadata": {
    "execution": {
     "iopub.execute_input": "2025-02-10T22:13:37.186945Z",
     "iopub.status.busy": "2025-02-10T22:13:37.186728Z",
     "iopub.status.idle": "2025-02-10T22:13:37.268523Z",
     "shell.execute_reply": "2025-02-10T22:13:37.267947Z"
    }
   },
   "source": [
    "ls = np.linspace(0, 10, 200)\n",
    "xx, yy = np.meshgrid(ls, ls)\n",
    "\n",
    "bounds=(-1,-1,1,1)   # Coordinate system: (left, bottom, right, top)\n",
    "img = hv.Image(np.sin(xx)*np.cos(yy), bounds=bounds)\n",
    "hv.save(img, 'img.html')"
   ],
   "outputs": [],
   "execution_count": null
  },
  {
   "cell_type": "code",
   "metadata": {
    "execution": {
     "iopub.execute_input": "2025-02-10T22:13:37.270601Z",
     "iopub.status.busy": "2025-02-10T22:13:37.270278Z",
     "iopub.status.idle": "2025-02-10T22:13:37.273933Z",
     "shell.execute_reply": "2025-02-10T22:13:37.273503Z"
    }
   },
   "source": [
    "# display map by using an iframe to the output\n",
    "IFrame(src='img.html', width=700, height=400)"
   ],
   "outputs": [],
   "execution_count": null
  },
  {
   "cell_type": "markdown",
   "metadata": {},
   "source": [
    "In recent versions of Bokeh, you can enable image hover to inspect the raw values:"
   ]
  },
  {
   "cell_type": "code",
   "metadata": {
    "execution": {
     "iopub.execute_input": "2025-02-10T22:13:37.275473Z",
     "iopub.status.busy": "2025-02-10T22:13:37.275174Z",
     "iopub.status.idle": "2025-02-10T22:13:37.284614Z",
     "shell.execute_reply": "2025-02-10T22:13:37.284111Z"
    }
   },
   "source": [
    "opts.defaults(\n",
    "   opts.Image(tools=['hover']),\n",
    "   opts.Points (color='black', marker='x', size=20))"
   ],
   "outputs": [],
   "execution_count": null
  },
  {
   "cell_type": "markdown",
   "metadata": {},
   "source": [
    "Slicing, sampling, etc. on an ``Image`` all operate in this continuous space, whereas the corresponding operations on a ``Raster`` work on the raw array coordinates."
   ]
  },
  {
   "cell_type": "code",
   "metadata": {
    "execution": {
     "iopub.execute_input": "2025-02-10T22:13:37.286512Z",
     "iopub.status.busy": "2025-02-10T22:13:37.286029Z",
     "iopub.status.idle": "2025-02-10T22:13:37.424771Z",
     "shell.execute_reply": "2025-02-10T22:13:37.424255Z"
    }
   },
   "source": [
    "img + img[-0.5:0.5, -0.5:0.5]"
   ],
   "outputs": [],
   "execution_count": null
  },
  {
   "cell_type": "markdown",
   "metadata": {},
   "source": [
    "Notice how, because our declared coordinate system is continuous, we can slice with any floating-point value we choose. The appropriate range of the samples in the input numpy array will always be displayed, whether or not there are samples at those specific floating-point values. This also allows us to index by a floating value, since the ``Image`` is defined as a continuous space it will snap to the closest coordinate, to inspect the closest coordinate we can use the ``closest`` method:"
   ]
  },
  {
   "cell_type": "code",
   "metadata": {
    "execution": {
     "iopub.execute_input": "2025-02-10T22:13:37.429774Z",
     "iopub.status.busy": "2025-02-10T22:13:37.429419Z",
     "iopub.status.idle": "2025-02-10T22:13:37.537209Z",
     "shell.execute_reply": "2025-02-10T22:13:37.536639Z"
    }
   },
   "source": [
    "closest = img.closest((0.1,0.1))\n",
    "print('The value at position %s is %s' % (closest, img[0.1, 0.1]))\n",
    "img * hv.Points([img.closest((0.1,0.1))])"
   ],
   "outputs": [],
   "execution_count": null
  },
  {
   "cell_type": "markdown",
   "metadata": {},
   "source": [
    "We can also easily take cross-sections of the Image by using the sample method or collapse a dimension using the ``reduce`` method:"
   ]
  },
  {
   "cell_type": "code",
   "metadata": {
    "execution": {
     "iopub.execute_input": "2025-02-10T22:13:37.541187Z",
     "iopub.status.busy": "2025-02-10T22:13:37.540657Z",
     "iopub.status.idle": "2025-02-10T22:13:37.662971Z",
     "shell.execute_reply": "2025-02-10T22:13:37.662402Z"
    }
   },
   "source": [
    "img.sample(x=0) + img.reduce(x=np.mean)"
   ],
   "outputs": [],
   "execution_count": null
  },
  {
   "cell_type": "markdown",
   "metadata": {},
   "source": [
    "The constructor of ``Image`` attempts to validate the input data by ensuring it is regularly sampled. In some cases, your data may be not be regularly sampled to a sufficiently high precision in which case you qill see an exception recommending the use of [``QuadMesh``](./QuadMesh.ipynb) instead. If you see this message and are sure that the ``Image`` element is appropriate, you can set the ``rtol`` value in the constructor to allow a higher deviation in sample spacing than the default of ``10e-6``. Alternatively, you can set this globally using ``hv.config.image_rtol`` as described in the [Installing and Configuring](../../../user_guide/Installing_and_Configuring.ipynb) user guide.\n",
    "\n",
    "One additional way to create Image objects is via the separate [ImaGen](https://github.com/pyviz-topics/imagen) library, which creates parameterized streams of images for experiments, simulations, or machine-learning applications.\n",
    "\n",
    "For full documentation and the available style and plot options, use ``hv.help(hv.Image).``\n",
    "    Image(Z, bounds=(x0, y0, x1, y1))\n",
    "\n",
    "where ``Z`` is a 2D array of shape ``NxM`` defining the intensity values and the bounds define the (left, bottom, right, top) edges of four corners of the grid. Other gridded formats which support declaring of explicit x/y-coordinate arrays such as xarray are also supported. See the [Gridded Datasets](../../../user_guide/09-Gridded_Datasets.ipynb) user guide for all the other accepted data formats."
   ]
  },
  {
   "cell_type": "code",
   "metadata": {
    "execution": {
     "iopub.execute_input": "2025-02-10T22:13:37.664788Z",
     "iopub.status.busy": "2025-02-10T22:13:37.664470Z",
     "iopub.status.idle": "2025-02-10T22:13:37.747419Z",
     "shell.execute_reply": "2025-02-10T22:13:37.746878Z"
    }
   },
   "source": [
    "ls = np.linspace(0, 10, 200)\n",
    "xx, yy = np.meshgrid(ls, ls)\n",
    "\n",
    "bounds=(-1,-1,1,1)   # Coordinate system: (left, bottom, right, top)\n",
    "img = hv.Image(np.sin(xx)*np.cos(yy), bounds=bounds)\n",
    "hv.save(img, 'img.html')"
   ],
   "outputs": [],
   "execution_count": null
  },
  {
   "cell_type": "code",
   "metadata": {
    "execution": {
     "iopub.execute_input": "2025-02-10T22:13:37.749537Z",
     "iopub.status.busy": "2025-02-10T22:13:37.749141Z",
     "iopub.status.idle": "2025-02-10T22:13:37.752829Z",
     "shell.execute_reply": "2025-02-10T22:13:37.752354Z"
    }
   },
   "source": [
    "# display map by using an iframe to the output path\n",
    "IFrame(src='img.html', width=700, height=400)"
   ],
   "outputs": [],
   "execution_count": null
  },
  {
   "cell_type": "markdown",
   "metadata": {},
   "source": [
    "In recent versions of Bokeh, you can enable image hover to inspect the raw values:"
   ]
  },
  {
   "cell_type": "code",
   "metadata": {
    "execution": {
     "iopub.execute_input": "2025-02-10T22:13:37.754367Z",
     "iopub.status.busy": "2025-02-10T22:13:37.754210Z",
     "iopub.status.idle": "2025-02-10T22:13:37.763250Z",
     "shell.execute_reply": "2025-02-10T22:13:37.762709Z"
    }
   },
   "source": [
    "opts.defaults(\n",
    "   opts.Image(tools=['hover']),\n",
    "   opts.Points (color='black', marker='x', size=20))"
   ],
   "outputs": [],
   "execution_count": null
  },
  {
   "cell_type": "markdown",
   "metadata": {},
   "source": [
    "Slicing, sampling, etc. on an ``Image`` all operate in this continuous space, whereas the corresponding operations on a ``Raster`` work on the raw array coordinates."
   ]
  },
  {
   "cell_type": "code",
   "metadata": {
    "execution": {
     "iopub.execute_input": "2025-02-10T22:13:37.764948Z",
     "iopub.status.busy": "2025-02-10T22:13:37.764763Z",
     "iopub.status.idle": "2025-02-10T22:13:37.901463Z",
     "shell.execute_reply": "2025-02-10T22:13:37.900916Z"
    }
   },
   "source": [
    "img + img[-0.5:0.5, -0.5:0.5]"
   ],
   "outputs": [],
   "execution_count": null
  },
  {
   "cell_type": "markdown",
   "metadata": {},
   "source": [
    "Notice how, because our declared coordinate system is continuous, we can slice with any floating-point value we choose. The appropriate range of the samples in the input numpy array will always be displayed, whether or not there are samples at those specific floating-point values. This also allows us to index by a floating value, since the ``Image`` is defined as a continuous space it will snap to the closest coordinate, to inspect the closest coordinate we can use the ``closest`` method:"
   ]
  },
  {
   "cell_type": "code",
   "metadata": {
    "execution": {
     "iopub.execute_input": "2025-02-10T22:13:37.906468Z",
     "iopub.status.busy": "2025-02-10T22:13:37.906080Z",
     "iopub.status.idle": "2025-02-10T22:13:38.014270Z",
     "shell.execute_reply": "2025-02-10T22:13:38.013731Z"
    }
   },
   "source": [
    "closest = img.closest((0.1,0.1))\n",
    "print('The value at position %s is %s' % (closest, img[0.1, 0.1]))\n",
    "img * hv.Points([img.closest((0.1,0.1))])"
   ],
   "outputs": [],
   "execution_count": null
  },
  {
   "cell_type": "markdown",
   "metadata": {},
   "source": [
    "We can also easily take cross-sections of the Image by using the sample method or collapse a dimension using the ``reduce`` method:"
   ]
  },
  {
   "cell_type": "code",
   "metadata": {
    "execution": {
     "iopub.execute_input": "2025-02-10T22:13:38.018238Z",
     "iopub.status.busy": "2025-02-10T22:13:38.017864Z",
     "iopub.status.idle": "2025-02-10T22:13:38.140751Z",
     "shell.execute_reply": "2025-02-10T22:13:38.140226Z"
    }
   },
   "source": [
    "img.sample(x=0) + img.reduce(x=np.mean)"
   ],
   "outputs": [],
   "execution_count": null
  },
  {
   "cell_type": "markdown",
   "metadata": {},
   "source": [
    "The constructor of ``Image`` attempts to validate the input data by ensuring it is regularly sampled. In some cases, your data may be not be regularly sampled to a sufficiently high precision in which case you qill see an exception recommending the use of [``QuadMesh``](./QuadMesh.ipynb) instead. If you see this message and are sure that the ``Image`` element is appropriate, you can set the ``rtol`` value in the constructor to allow a higher deviation in sample spacing than the default of ``10e-6``. Alternatively, you can set this globally using ``hv.config.image_rtol`` as described in the [Installing and Configuring](../../../user_guide/Installing_and_Configuring.ipynb) user guide.\n",
    "\n",
    "One additional way to create Image objects is via the separate [ImaGen](https://github.com/pyviz-topics/imagen) library, which creates parameterized streams of images for experiments, simulations, or machine-learning applications.\n",
    "\n",
    "For full documentation and the available style and plot options, use ``hv.help(hv.Image).``"
   ]
  }
 ],
 "metadata": {
  "kernelspec": {
   "display_name": "Python 3 (ipykernel)",
   "language": "python",
   "name": "python3"
  },
  "language_info": {
   "codemirror_mode": {
    "name": "ipython",
    "version": 3
   },
   "file_extension": ".py",
   "mimetype": "text/x-python",
   "name": "python",
   "nbconvert_exporter": "python",
   "pygments_lexer": "ipython3",
   "version": "3.11.11"
  }
 },
 "nbformat": 4,
 "nbformat_minor": 4
}
